{
 "cells": [
  {
   "cell_type": "markdown",
   "metadata": {},
   "source": [
    "Today's class: outline\n",
    "\n",
    "0.Running and clearing cells, active & inactive cells, changing cell type, cell insert, kernel interrupt & restart,drawback of using notebooks, shutting down a notebook, python comments, etc...\n",
    "\n",
    "1.OK, python lists are mutable. Assuming we want to preserve the original list, what should we do ?\n",
    "\n",
    "2.Preserving lists by slice\n",
    "\n",
    "3.Python tuples\n",
    "\n",
    "4.Accessing elements in nested lists\n",
    "\n",
    "    break\n",
    "\n",
    "5.for loops in python\n",
    "\n",
    "6.range function\n",
    "\n",
    "7.file io\n",
    "\n",
    "8.drill\n",
    "\n",
    "9.solutions\n",
    "\n",
    "10.Recap & Shape of things to come : hashing and python dictionaries"
   ]
  },
  {
   "cell_type": "markdown",
   "metadata": {},
   "source": [
    "# Running and clearing cells, active & inactive cells, changing cell type, cell insert, kernel interrupt & restart,drawback of using notebooks, shutting down a notebook, python comments, etc..."
   ]
  },
  {
   "cell_type": "markdown",
   "metadata": {},
   "source": [
    "# OK, python lists are mutable. Assuming we want to preserve the original list, how do we go about this ?"
   ]
  },
  {
   "cell_type": "code",
   "execution_count": 1,
   "metadata": {},
   "outputs": [
    {
     "name": "stdout",
     "output_type": "stream",
     "text": [
      "['ATC', 'GAG', 'TAC']\n"
     ]
    }
   ],
   "source": [
    "my_list = [\"ATC\",\"GAG\",\"TAC\"]\n",
    "print(my_list)"
   ]
  },
  {
   "cell_type": "code",
   "execution_count": 2,
   "metadata": {},
   "outputs": [
    {
     "name": "stdout",
     "output_type": "stream",
     "text": [
      "['ATC', 'GAG', 'TAC', 'AAA']\n"
     ]
    }
   ],
   "source": [
    "my_list.append(\"AAA\")\n",
    "print(my_list)"
   ]
  },
  {
   "cell_type": "code",
   "execution_count": 3,
   "metadata": {},
   "outputs": [
    {
     "name": "stdout",
     "output_type": "stream",
     "text": [
      "['ATC', 'GAG', 'TAC'] ['ATC', 'GAG', 'TAC']\n"
     ]
    }
   ],
   "source": [
    "# Hmmm, how about we making a copy of the original list by assigning it to another variable ?\n",
    "\n",
    "my_list2 = [\"ATC\",\"GAG\",\"TAC\"]\n",
    "\n",
    "my_list2_copy = my_list2\n",
    "\n",
    "print(my_list2,my_list2_copy)"
   ]
  },
  {
   "cell_type": "code",
   "execution_count": 4,
   "metadata": {},
   "outputs": [
    {
     "name": "stdout",
     "output_type": "stream",
     "text": [
      "['ATC', 'GAG', 'TAC', 'AAA']\n"
     ]
    }
   ],
   "source": [
    "my_list2.append(\"AAA\")\n",
    "print(my_list2)"
   ]
  },
  {
   "cell_type": "code",
   "execution_count": 5,
   "metadata": {},
   "outputs": [
    {
     "name": "stdout",
     "output_type": "stream",
     "text": [
      "['ATC', 'GAG', 'TAC', 'AAA']\n"
     ]
    }
   ],
   "source": [
    "print(my_list2_copy)"
   ]
  },
  {
   "cell_type": "markdown",
   "metadata": {},
   "source": [
    "EEEEEEEEEeeks what just happened here ?\n",
    "Both variables point to the same list in memory !"
   ]
  },
  {
   "cell_type": "markdown",
   "metadata": {},
   "source": [
    "# Preserving lists by slice"
   ]
  },
  {
   "cell_type": "code",
   "execution_count": 6,
   "metadata": {},
   "outputs": [
    {
     "name": "stdout",
     "output_type": "stream",
     "text": [
      "['ATC', 'GAG', 'TAC']\n"
     ]
    }
   ],
   "source": [
    "my_list3 = [\"ATC\",\"GAG\",\"TAC\"]\n",
    "print(my_list3)"
   ]
  },
  {
   "cell_type": "code",
   "execution_count": 7,
   "metadata": {},
   "outputs": [
    {
     "name": "stdout",
     "output_type": "stream",
     "text": [
      "['ATC', 'GAG', 'TAC']\n"
     ]
    }
   ],
   "source": [
    "my_list3_copy = my_list3[ : ]\n",
    "print(my_list3_copy)"
   ]
  },
  {
   "cell_type": "code",
   "execution_count": 8,
   "metadata": {},
   "outputs": [
    {
     "name": "stdout",
     "output_type": "stream",
     "text": [
      "['ATC', 'GAG', 'TAC', 'AAA']\n",
      "['ATC', 'GAG', 'TAC']\n"
     ]
    }
   ],
   "source": [
    "my_list3.append(\"AAA\")\n",
    "print(my_list3)\n",
    "print(my_list3_copy)"
   ]
  },
  {
   "cell_type": "markdown",
   "metadata": {},
   "source": [
    "# Python tuples"
   ]
  },
  {
   "cell_type": "markdown",
   "metadata": {},
   "source": [
    "1. A tuple is a list of items in python that is immutable !\n",
    "\n",
    "2. items enclosed by ()\n",
    "\n"
   ]
  },
  {
   "cell_type": "code",
   "execution_count": 10,
   "metadata": {},
   "outputs": [
    {
     "data": {
      "text/plain": [
       "('GGG',)"
      ]
     },
     "execution_count": 10,
     "metadata": {},
     "output_type": "execute_result"
    }
   ],
   "source": [
    "my_tuple = (\"GGG\",\"CCC\",\"AAA\")\n",
    "\n",
    "# try messing with tuples\n",
    "\n",
    "my_tuple[0:1]"
   ]
  },
  {
   "cell_type": "code",
   "execution_count": 11,
   "metadata": {},
   "outputs": [
    {
     "ename": "AttributeError",
     "evalue": "'tuple' object has no attribute 'append'",
     "output_type": "error",
     "traceback": [
      "\u001b[1;31m---------------------------------------------------------------------------\u001b[0m",
      "\u001b[1;31mAttributeError\u001b[0m                            Traceback (most recent call last)",
      "\u001b[1;32m<ipython-input-11-3931e049152b>\u001b[0m in \u001b[0;36m<module>\u001b[1;34m()\u001b[0m\n\u001b[1;32m----> 1\u001b[1;33m \u001b[0mmy_tuple\u001b[0m\u001b[1;33m.\u001b[0m\u001b[0mappend\u001b[0m\u001b[1;33m(\u001b[0m\u001b[1;34m\"TTT\"\u001b[0m\u001b[1;33m)\u001b[0m\u001b[1;33m\u001b[0m\u001b[0m\n\u001b[0m",
      "\u001b[1;31mAttributeError\u001b[0m: 'tuple' object has no attribute 'append'"
     ]
    }
   ],
   "source": [
    "my_tuple.append(\"TTT\")"
   ]
  },
  {
   "cell_type": "code",
   "execution_count": 12,
   "metadata": {},
   "outputs": [
    {
     "data": {
      "text/plain": [
       "3"
      ]
     },
     "execution_count": 12,
     "metadata": {},
     "output_type": "execute_result"
    }
   ],
   "source": [
    "len(my_tuple)"
   ]
  },
  {
   "cell_type": "markdown",
   "metadata": {},
   "source": [
    "# Accessing elements in nested lists"
   ]
  },
  {
   "cell_type": "code",
   "execution_count": 13,
   "metadata": {
    "collapsed": true
   },
   "outputs": [],
   "source": [
    "my_nested_list = [[\"GAG\",\"GTT\"],[\"GAA\",\"AGG\"],\"[AAG]\",\"GAGAGACAGCAG\"]"
   ]
  },
  {
   "cell_type": "code",
   "execution_count": 17,
   "metadata": {},
   "outputs": [
    {
     "data": {
      "text/plain": [
       "'GAA'"
      ]
     },
     "execution_count": 17,
     "metadata": {},
     "output_type": "execute_result"
    }
   ],
   "source": [
    "# Access the first item in the second list in the master list ? i.e., here we expect to get 'GAA'\n",
    "\n",
    "my_nested_list[1][0]"
   ]
  },
  {
   "cell_type": "code",
   "execution_count": 18,
   "metadata": {},
   "outputs": [
    {
     "data": {
      "text/plain": [
       "'G'"
      ]
     },
     "execution_count": 18,
     "metadata": {},
     "output_type": "execute_result"
    }
   ],
   "source": [
    " # Can you access the first letter of the first item in the second list in the master list ? \n",
    "    # Here we expect 'G'\n",
    "my_nested_list[1][0][0]"
   ]
  },
  {
   "cell_type": "markdown",
   "metadata": {},
   "source": [
    "# for loops in python"
   ]
  },
  {
   "cell_type": "code",
   "execution_count": 20,
   "metadata": {},
   "outputs": [
    {
     "name": "stdout",
     "output_type": "stream",
     "text": [
      "3\n",
      "7\n",
      "5\n",
      "3\n"
     ]
    }
   ],
   "source": [
    "oligo_list = [\"GTG\",\"GAATTTT\",\"AACGC\",\"TTT\"]\n",
    "\n",
    "# Can we print out the len of each item in the list ? To do a specific task repeatedly,\n",
    "# we use for loop. We will not discuss while loop now\n",
    "\n",
    "for oligo in oligo_list:\n",
    "    print (len(oligo))\n",
    "\n",
    "# Go to slide for loop description"
   ]
  },
  {
   "cell_type": "code",
   "execution_count": 22,
   "metadata": {},
   "outputs": [
    {
     "name": "stdout",
     "output_type": "stream",
     "text": [
      "F*\n",
      "r*\n",
      "e*\n",
      "d*\n",
      " *\n",
      "H*\n",
      "u*\n",
      "t*\n",
      "c*\n",
      "h*\n"
     ]
    }
   ],
   "source": [
    "# Another example with strings\n",
    "\n",
    "for letter in \"Fred Hutch\":\n",
    "    print (letter + \"*\")"
   ]
  },
  {
   "cell_type": "markdown",
   "metadata": {},
   "source": [
    "# python range function"
   ]
  },
  {
   "cell_type": "code",
   "execution_count": 25,
   "metadata": {},
   "outputs": [
    {
     "name": "stdout",
     "output_type": "stream",
     "text": [
      "0\n",
      "1\n",
      "2\n",
      "3\n",
      "4\n",
      "5\n",
      "6\n",
      "7\n",
      "8\n",
      "9\n",
      "10\n",
      "11\n",
      "12\n",
      "13\n",
      "14\n",
      "15\n",
      "16\n",
      "17\n",
      "18\n",
      "19\n",
      "20\n"
     ]
    }
   ],
   "source": [
    "# Generates list of numbers at one go ! Goes well with for loops\n",
    "\n",
    "#print first 20 integers starting from 0\n",
    "\n",
    "for num in range(0,21):\n",
    "    print(num)"
   ]
  },
  {
   "cell_type": "code",
   "execution_count": 4,
   "metadata": {},
   "outputs": [
    {
     "name": "stdout",
     "output_type": "stream",
     "text": [
      "0\n",
      "2\n",
      "4\n",
      "6\n",
      "8\n",
      "10\n",
      "12\n",
      "14\n",
      "16\n",
      "18\n"
     ]
    }
   ],
   "source": [
    "# Print all even numbers from 0 to 20\n",
    "\n",
    "for num in range(0,20,2):\n",
    "    print(num)"
   ]
  },
  {
   "cell_type": "code",
   "execution_count": 27,
   "metadata": {},
   "outputs": [
    {
     "ename": "AttributeError",
     "evalue": "'range' object has no attribute 'append'",
     "output_type": "error",
     "traceback": [
      "\u001b[1;31m---------------------------------------------------------------------------\u001b[0m",
      "\u001b[1;31mAttributeError\u001b[0m                            Traceback (most recent call last)",
      "\u001b[1;32m<ipython-input-27-a9004f66da71>\u001b[0m in \u001b[0;36m<module>\u001b[1;34m()\u001b[0m\n\u001b[0;32m      1\u001b[0m \u001b[1;31m# Now put them into a list\u001b[0m\u001b[1;33m\u001b[0m\u001b[1;33m\u001b[0m\u001b[0m\n\u001b[0;32m      2\u001b[0m \u001b[1;32mfor\u001b[0m \u001b[0mnum\u001b[0m \u001b[1;32min\u001b[0m \u001b[0mrange\u001b[0m\u001b[1;33m(\u001b[0m\u001b[1;36m0\u001b[0m\u001b[1;33m,\u001b[0m\u001b[1;36m20\u001b[0m\u001b[1;33m,\u001b[0m\u001b[1;36m2\u001b[0m\u001b[1;33m)\u001b[0m\u001b[1;33m:\u001b[0m\u001b[1;33m\u001b[0m\u001b[0m\n\u001b[1;32m----> 3\u001b[1;33m     \u001b[0mnum_list\u001b[0m\u001b[1;33m.\u001b[0m\u001b[0mappend\u001b[0m\u001b[1;33m(\u001b[0m\u001b[0mnum\u001b[0m\u001b[1;33m)\u001b[0m\u001b[1;33m\u001b[0m\u001b[0m\n\u001b[0m\u001b[0;32m      4\u001b[0m \u001b[1;33m\u001b[0m\u001b[0m\n\u001b[0;32m      5\u001b[0m \u001b[0mprint\u001b[0m\u001b[1;33m(\u001b[0m\u001b[0mnum_list\u001b[0m\u001b[1;33m)\u001b[0m\u001b[1;33m\u001b[0m\u001b[0m\n",
      "\u001b[1;31mAttributeError\u001b[0m: 'range' object has no attribute 'append'"
     ]
    }
   ],
   "source": [
    "# Now put them into a list\n",
    "for num in range(0,20,2):\n",
    "    num_list.append(num)\n",
    "\n",
    "print(num_list)"
   ]
  },
  {
   "cell_type": "code",
   "execution_count": 8,
   "metadata": {},
   "outputs": [
    {
     "name": "stdout",
     "output_type": "stream",
     "text": [
      "[0, 2, 4, 6, 8, 10, 12, 14, 16, 18]\n"
     ]
    }
   ],
   "source": [
    "# What happened ? Look at the error stack trace\n",
    "\n",
    "\n",
    "num_list = list()\n",
    "\n",
    "for num in range(0,20,2):\n",
    "    num_list.append(num)\n",
    "print(num_list)\n",
    "#technically num_list is a tuple and this won't work if num_list is a list"
   ]
  },
  {
   "cell_type": "markdown",
   "metadata": {},
   "source": [
    "# Reading and writing files from local disk or file io\n"
   ]
  },
  {
   "cell_type": "code",
   "execution_count": 29,
   "metadata": {
    "collapsed": true
   },
   "outputs": [],
   "source": [
    "# make an empty test file\n",
    "my_file = open(\"C:/Users/rharihar/Desktop/test_file.txt\")"
   ]
  },
  {
   "cell_type": "code",
   "execution_count": 30,
   "metadata": {},
   "outputs": [
    {
     "data": {
      "text/plain": [
       "['This is a test file']"
      ]
     },
     "execution_count": 30,
     "metadata": {},
     "output_type": "execute_result"
    }
   ],
   "source": [
    "mydata = my_file.readlines()\n",
    "mydata"
   ]
  },
  {
   "cell_type": "code",
   "execution_count": 31,
   "metadata": {
    "collapsed": true
   },
   "outputs": [],
   "source": [
    "# Close the file\n",
    "my_file.close()"
   ]
  },
  {
   "cell_type": "code",
   "execution_count": 32,
   "metadata": {
    "collapsed": true
   },
   "outputs": [],
   "source": [
    "# Writing a file\n",
    "my_string = \"I am awesome ! Oh, it's quite true !\"\n",
    "\n",
    "out_file = open(\"C:/Users/rharihar/Desktop/out_file.txt\",\"w\")\n",
    "out_file.write(my_string)\n",
    "out_file.close()\n"
   ]
  },
  {
   "cell_type": "markdown",
   "metadata": {},
   "source": [
    "# Drill time ! How exciting ! 5 Questions, 20 mins"
   ]
  },
  {
   "cell_type": "markdown",
   "metadata": {},
   "source": [
    "1.Find the first occurences of the words 'not' and 'good'. If not preceeds good, change the whole substring to 'bad'. E.g. \"This music is not very good\" changes to \"This music is bad\".\n",
    "Hint : the methods, string.find and string.replace may come in handy !"
   ]
  },
  {
   "cell_type": "markdown",
   "metadata": {},
   "source": [
    "2.Identify all strings containing the letter 'o' in this list 'Fred Hutch','Python','Object','For loop','lists','Tuples','seattle'.Then make a new list with these words, and print them out.\n"
   ]
  },
  {
   "cell_type": "markdown",
   "metadata": {},
   "source": [
    "3.You are given a list of integers,2,3,4,5,6. Square them, make a new list, print it out."
   ]
  },
  {
   "cell_type": "markdown",
   "metadata": {},
   "source": [
    "4.Remove redundancy in a list . e.g. input list is [20,14,14,14,10,10] output list is [20,14,10]"
   ]
  },
  {
   "cell_type": "markdown",
   "metadata": {},
   "source": [
    "5.Write out output from drill question 1 into a text file on your lcoal disk"
   ]
  },
  {
   "cell_type": "markdown",
   "metadata": {},
   "source": [
    "# Recap & Shape of things to come : Modularizing your code by writing functions,hashing and python dictionaries,github"
   ]
  },
  {
   "cell_type": "code",
   "execution_count": null,
   "metadata": {
    "collapsed": true
   },
   "outputs": [],
   "source": []
  }
 ],
 "metadata": {
  "kernelspec": {
   "display_name": "Python 3",
   "language": "python",
   "name": "python3"
  },
  "language_info": {
   "codemirror_mode": {
    "name": "ipython",
    "version": 3
   },
   "file_extension": ".py",
   "mimetype": "text/x-python",
   "name": "python",
   "nbconvert_exporter": "python",
   "pygments_lexer": "ipython3",
   "version": "3.6.0"
  }
 },
 "nbformat": 4,
 "nbformat_minor": 1
}

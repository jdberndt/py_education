{
 "cells": [
  {
   "cell_type": "markdown",
   "metadata": {},
   "source": [
    "1.Given a dictionary of {'TSG1':'TP53','TSG2': 'PTEN','ONC1': \"KRas\", 'ONC2': 'EGFR','TSG3': 'APC'}, where TSG is tumor supressor gene, and ONC is oncogene print out key value pairs in the format gene1 --> TP53"
   ]
  },
  {
   "cell_type": "code",
   "execution_count": 2,
   "metadata": {
    "collapsed": false
   },
   "outputs": [
    {
     "name": "stdout",
     "output_type": "stream",
     "text": [
      "TSG1  --> TP53\n",
      "TSG2  --> PTEN\n",
      "TSG3  --> APC\n",
      "ONC2  --> EGFR\n",
      "ONC1  --> KRas\n"
     ]
    }
   ],
   "source": [
    "# We use a for loop here\n",
    "my_dict = {'TSG1':'TP53','TSG2': 'PTEN','ONC1': \"KRas\", 'ONC2': 'EGFR','TSG3': 'APC'}\n",
    "\n",
    "for i in my_dict.keys():\n",
    "    print(i,' -->', my_dict[i])"
   ]
  },
  {
   "cell_type": "markdown",
   "metadata": {},
   "source": [
    "2.Given a dictionary {'TSG1':'TP53','TSG2': 'PTEN','ONC1': \"KRas\", 'ONC2': 'EGFR','TSG3': 'APC'}, print out all tumor suppressor genes from the dictionary"
   ]
  },
  {
   "cell_type": "code",
   "execution_count": 4,
   "metadata": {
    "collapsed": false
   },
   "outputs": [
    {
     "name": "stdout",
     "output_type": "stream",
     "text": [
      "TSG1 --> TP53\n",
      "TSG2 --> PTEN\n",
      "TSG3 --> APC\n"
     ]
    }
   ],
   "source": [
    "# We use for loop and in here\n",
    "\n",
    "my_dict = {'TSG1':'TP53','TSG2': 'PTEN','ONC1': \"KRas\", 'ONC2': 'EGFR','TSG3': 'APC'}\n",
    "\n",
    "for i in my_dict.keys():\n",
    "    if 'TSG' in i:\n",
    "        print(i, '-->', my_dict[i])"
   ]
  },
  {
   "cell_type": "markdown",
   "metadata": {},
   "source": [
    "3.Write a function that returns the square of a number"
   ]
  },
  {
   "cell_type": "code",
   "execution_count": 5,
   "metadata": {
    "collapsed": false
   },
   "outputs": [
    {
     "data": {
      "text/plain": [
       "100"
      ]
     },
     "execution_count": 5,
     "metadata": {},
     "output_type": "execute_result"
    }
   ],
   "source": [
    "def square_num(num):\n",
    "    return num**2\n",
    "\n",
    "square_num(10)"
   ]
  },
  {
   "cell_type": "markdown",
   "metadata": {},
   "source": [
    "4.Write a function that counts and return the number of 'a's in a string"
   ]
  },
  {
   "cell_type": "code",
   "execution_count": 14,
   "metadata": {
    "collapsed": false
   },
   "outputs": [
    {
     "data": {
      "text/plain": [
       "4"
      ]
     },
     "execution_count": 14,
     "metadata": {},
     "output_type": "execute_result"
    }
   ],
   "source": [
    "def a_counter(string1):\n",
    "    a_count = 0\n",
    "    for letter in string1:\n",
    "        if letter == 'a' or letter == 'A':\n",
    "            a_count = a_count + 1\n",
    "    return a_count\n",
    "\n",
    "a_counter('Alabama')"
   ]
  },
  {
   "cell_type": "markdown",
   "metadata": {},
   "source": [
    "5.Write a function to read in a file, count the number of 'a's in it and write out the results to disk"
   ]
  },
  {
   "cell_type": "code",
   "execution_count": 13,
   "metadata": {
    "collapsed": false
   },
   "outputs": [
    {
     "name": "stdout",
     "output_type": "stream",
     "text": [
      "['Alabama']\n"
     ]
    }
   ],
   "source": [
    "def a_counter_next(infile,outfile):\n",
    "    my_file = open(infile)\n",
    "    mydata = my_file.readlines()\n",
    "    print(mydata)\n",
    "    a_count2 = 0\n",
    "    for letter in mydata[0]:\n",
    "        if letter == 'a' or letter == 'A':\n",
    "            a_count2 = a_count2 + 1\n",
    "    a_count2 = \"Number of a's is equal to \" + str(a_count2) \n",
    "    my_file.close()\n",
    "    out_file = open(outfile,\"w\")\n",
    "    out_file.write(a_count2)\n",
    "    out_file.close()\n",
    "\n",
    "a_counter_next(\"C:/Users/rharihar/Desktop/test_file.txt\",\"C:/Users/rharihar/Desktop/out_file.txt\")"
   ]
  }
 ],
 "metadata": {
  "kernelspec": {
   "display_name": "Python 3",
   "language": "python",
   "name": "python3"
  },
  "language_info": {
   "codemirror_mode": {
    "name": "ipython",
    "version": 3
   },
   "file_extension": ".py",
   "mimetype": "text/x-python",
   "name": "python",
   "nbconvert_exporter": "python",
   "pygments_lexer": "ipython3",
   "version": "3.6.0"
  }
 },
 "nbformat": 4,
 "nbformat_minor": 0
}
